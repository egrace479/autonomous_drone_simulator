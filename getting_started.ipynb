{
 "cells": [
  {
   "cell_type": "markdown",
   "metadata": {},
   "source": [
    "# Instructions to get started"
   ]
  },
  {
   "cell_type": "markdown",
   "metadata": {},
   "source": [
    "## Step 1: Create autonomy cube from real-world drone traces\n",
    "\n",
    "**What is an autonomy cube?**\n",
    "\n",
    "An autonomy cube is a data structure that can be used to characterize a flight area for a mission.\n",
    "Autonomy cubes approximate the sensed data for flight paths that deviate from the original mission within a preset range. \n",
    "\n",
    "Note, this repo provides instructions for creating autonomy cube from oblique drone videos. \n",
    "\n",
    "<p style='font-size:12px'>Source: Boubin, Jayson G., et al. \"Managing edge resources for fully autonomous aerial systems.\" Proceedings of the 4th ACM/IEEE Symposium on Edge Computing. 2019.</p>\n",
    "\n",
    "Example autonomy cubes can be found here: /data\n"
   ]
  },
  {
   "cell_type": "markdown",
   "metadata": {},
   "source": [
    "### Required Inputs:\n",
    "- Frames from original drone video\n",
    "- Telemetry data for each frame (altitude, GPS location, and drone heading)"
   ]
  },
  {
   "cell_type": "markdown",
   "metadata": {},
   "source": [
    "Convert raw videos to frames using a tool like ffmpeg. \n",
    "\n",
    "```{r}\n",
    "$ ffmpeg -i input.mp4 %04d.png"
   ]
  },
  {
   "cell_type": "markdown",
   "metadata": {},
   "source": [
    "The following script creates autonomy cubes from the required inputs.\n",
    "```{r}\n",
    "$ python3 autonomy_cube.py"
   ]
  },
  {
   "cell_type": "markdown",
   "metadata": {},
   "source": [
    "## Step 2: Create your own autonomous navigation policy, or use the one provided"
   ]
  },
  {
   "cell_type": "markdown",
   "metadata": {},
   "source": [
    "The script uses the autonomous_herd_tracking.py script to simulate the autonomous navigation policy.\n",
    "You can use autonomous_herd_tracking.py, or replace it with your own navigation policy that uses YOLO bounding boxes, or another computer vision model to analyze the sensed data.\n",
    "The autonomy cube data is loaded, and the script iterates through the desired duration of the data to test the autonomous navigation policy.\n",
    "Finally, the script calculates the accuracy and f1 score of the autonomous navigation policy.\n",
    "\n",
    "```{r}\n",
    "$ python3 autonomous_navigation.py"
   ]
  },
  {
   "cell_type": "markdown",
   "metadata": {},
   "source": [
    "## Optional:\n",
    "### Visualize results\n",
    "See \\visualizations for examples\n",
    "### Integrated autonomous navigation model with SoftwarePilot to test in real-life\n",
    "See https://github.com/KevynAngueira/SoftwarePilot/"
   ]
  }
 ],
 "metadata": {
  "kernelspec": {
   "display_name": "auto_drone",
   "language": "python",
   "name": "python3"
  },
  "language_info": {
   "codemirror_mode": {
    "name": "ipython",
    "version": 3
   },
   "file_extension": ".py",
   "mimetype": "text/x-python",
   "name": "python",
   "nbconvert_exporter": "python",
   "pygments_lexer": "ipython3",
   "version": "3.9.18"
  }
 },
 "nbformat": 4,
 "nbformat_minor": 2
}
